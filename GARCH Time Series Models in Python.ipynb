{
 "cells": [
  {
   "cell_type": "markdown",
   "metadata": {},
   "source": [
    "# Generalized AutoRegressive Conditional Heteroskedacity (GARCH) Models\n",
    "* Created on: 06/02/2021\n",
    "* Created by: Michael Monahan"
   ]
  },
  {
   "cell_type": "markdown",
   "metadata": {},
   "source": [
    "## Import the required librarys"
   ]
  },
  {
   "cell_type": "code",
   "execution_count": 22,
   "metadata": {},
   "outputs": [],
   "source": [
    "import pandas as pd\n",
    "from matplotlib import pyplot as plt\n",
    "plt.style.use('ggplot')\n",
    "import statsmodels.api as sm\n",
    "import seaborn as sns\n",
    "import numpy as np\n",
    "import time\n",
    "import datetime\n",
    "import requests\n",
    "from arch import arch_model"
   ]
  },
  {
   "cell_type": "markdown",
   "metadata": {},
   "source": [
    "## Why are GARCH models necessary?\n",
    "* it is a popular method to model volatility\n",
    "* this module will be broken down into four parts:\n",
    "    1. GARCH model fundamentals\n",
    "    2. GARCH model configuration\n",
    "    3. Model performance evaluation\n",
    "    4. pratcial applications of GARCH models\n",
    "    \n",
    "## Basics of financial volatility\n",
    "* a *statistical measure of the dispersion* of financial asset returns over time\n",
    "* most commonly computed as the standard deviation ($\\sigma$) or variance ($\\sigma^2$) of price returns\n",
    "* in general, the higher the volatility, the riskier a financial asset which necessitates a higher return\n",
    "\n",
    "### How to compute volatility in three steps:\n",
    "* Step 1. Calculate returns as a percentage change     \n",
    "* Step 2. Calculate the sample mean return\n",
    "* Step 3. Caluculate the sample standard deviation\n",
    "\n",
    "### To compute volatility in Python\n",
    "* use pandas `.pct_change()` method to calculate retruns as a percentage change\n",
    "```python\n",
    "return_data = price_data.pct_change()\n",
    "```\n",
    "* use pandas `.std()` method to calculate volatility as standard deviation of returns\n",
    "```python\n",
    "volatility = return_data.std()\n",
    "```\n",
    "### Volatility conversion\n",
    "* convert daily return to monthly volatility (assuming 21 trading days in a month)\n",
    "    \\begin{equation}\n",
    "    \\sigma_{monthly} = \\sqrt21 * \\sigma_{d}\n",
    "    \\end{equation}\n",
    "* similarly, daily return volatility can be converted to an annual basis\n",
    "    \\begin{equation}\n",
    "    \\sigma_{annual} = \\sqrt252 * \\sigma_{d}\n",
    "    \\end{equation}\n",
    "* one of the challenges, and assumptions is volatility remains constant over time (homoskedastic)\n",
    "* this is rarely observed in 'real-life' return data, and volatility exhibits heteroskedastic properties\n",
    "\n",
    "### Detecting heteroskedasticity\n",
    "* visualize the data over time via scatter plot\n"
   ]
  },
  {
   "cell_type": "markdown",
   "metadata": {},
   "source": [
    "## Retrive the data needed for this module\n",
    "### Import the stock data from Yahoo Finance\n",
    "* The url to [Yahoo Finance](https://finance.yahoo.com) was modified to allow greater flexibility with date ranges and selected equities."
   ]
  },
  {
   "cell_type": "code",
   "execution_count": 11,
   "metadata": {},
   "outputs": [],
   "source": [
    "# Select the S&P500 data for one year\n",
    "ticker = \"^GSPC\"\n",
    "period1 = int(time.mktime(datetime.datetime(2011,6,1,23,59).timetuple()))\n",
    "period2 = int(time.mktime(datetime.datetime(2021,6,1,23,59).timetuple()))\n",
    "interval = '1d' # 1d, 1m\n",
    "url = f'https://query1.finance.yahoo.com/v7/finance/download/{ticker}?period1={period1}&period2={period2}&interval={interval}&events=history&includeAdjustedClose=true'\n"
   ]
  },
  {
   "cell_type": "markdown",
   "metadata": {},
   "source": [
    "### Parse the dates and set the date column as an index"
   ]
  },
  {
   "cell_type": "code",
   "execution_count": 12,
   "metadata": {},
   "outputs": [
    {
     "data": {
      "text/html": [
       "<div>\n",
       "<style scoped>\n",
       "    .dataframe tbody tr th:only-of-type {\n",
       "        vertical-align: middle;\n",
       "    }\n",
       "\n",
       "    .dataframe tbody tr th {\n",
       "        vertical-align: top;\n",
       "    }\n",
       "\n",
       "    .dataframe thead th {\n",
       "        text-align: right;\n",
       "    }\n",
       "</style>\n",
       "<table border=\"1\" class=\"dataframe\">\n",
       "  <thead>\n",
       "    <tr style=\"text-align: right;\">\n",
       "      <th></th>\n",
       "      <th>Open</th>\n",
       "      <th>High</th>\n",
       "      <th>Low</th>\n",
       "      <th>Close</th>\n",
       "      <th>Adj Close</th>\n",
       "      <th>Volume</th>\n",
       "    </tr>\n",
       "    <tr>\n",
       "      <th>Date</th>\n",
       "      <th></th>\n",
       "      <th></th>\n",
       "      <th></th>\n",
       "      <th></th>\n",
       "      <th></th>\n",
       "      <th></th>\n",
       "    </tr>\n",
       "  </thead>\n",
       "  <tbody>\n",
       "    <tr>\n",
       "      <th>2011-06-02</th>\n",
       "      <td>1314.550049</td>\n",
       "      <td>1318.030029</td>\n",
       "      <td>1305.609985</td>\n",
       "      <td>1312.939941</td>\n",
       "      <td>1312.939941</td>\n",
       "      <td>3762170000</td>\n",
       "    </tr>\n",
       "    <tr>\n",
       "      <th>2011-06-03</th>\n",
       "      <td>1312.939941</td>\n",
       "      <td>1312.939941</td>\n",
       "      <td>1297.900024</td>\n",
       "      <td>1300.160034</td>\n",
       "      <td>1300.160034</td>\n",
       "      <td>3505030000</td>\n",
       "    </tr>\n",
       "    <tr>\n",
       "      <th>2011-06-06</th>\n",
       "      <td>1300.260010</td>\n",
       "      <td>1300.260010</td>\n",
       "      <td>1284.719971</td>\n",
       "      <td>1286.170044</td>\n",
       "      <td>1286.170044</td>\n",
       "      <td>3555980000</td>\n",
       "    </tr>\n",
       "    <tr>\n",
       "      <th>2011-06-07</th>\n",
       "      <td>1286.310059</td>\n",
       "      <td>1296.219971</td>\n",
       "      <td>1284.739990</td>\n",
       "      <td>1284.939941</td>\n",
       "      <td>1284.939941</td>\n",
       "      <td>3846250000</td>\n",
       "    </tr>\n",
       "    <tr>\n",
       "      <th>2011-06-08</th>\n",
       "      <td>1284.630005</td>\n",
       "      <td>1287.040039</td>\n",
       "      <td>1277.420044</td>\n",
       "      <td>1279.560059</td>\n",
       "      <td>1279.560059</td>\n",
       "      <td>3970810000</td>\n",
       "    </tr>\n",
       "  </tbody>\n",
       "</table>\n",
       "</div>"
      ],
      "text/plain": [
       "                   Open         High          Low        Close    Adj Close  \\\n",
       "Date                                                                          \n",
       "2011-06-02  1314.550049  1318.030029  1305.609985  1312.939941  1312.939941   \n",
       "2011-06-03  1312.939941  1312.939941  1297.900024  1300.160034  1300.160034   \n",
       "2011-06-06  1300.260010  1300.260010  1284.719971  1286.170044  1286.170044   \n",
       "2011-06-07  1286.310059  1296.219971  1284.739990  1284.939941  1284.939941   \n",
       "2011-06-08  1284.630005  1287.040039  1277.420044  1279.560059  1279.560059   \n",
       "\n",
       "                Volume  \n",
       "Date                    \n",
       "2011-06-02  3762170000  \n",
       "2011-06-03  3505030000  \n",
       "2011-06-06  3555980000  \n",
       "2011-06-07  3846250000  \n",
       "2011-06-08  3970810000  "
      ]
     },
     "execution_count": 12,
     "metadata": {},
     "output_type": "execute_result"
    }
   ],
   "source": [
    "sp_price = pd.read_csv(url, parse_dates=['Date'])\n",
    "sp_price = sp_price.sort_values(by = 'Date')\n",
    "sp_price.set_index('Date', inplace = True)"
   ]
  },
  {
   "cell_type": "markdown",
   "metadata": {},
   "source": [
    "## Visualize the data (S&P 500 Adjusted Closing Price 2011-2021)"
   ]
  },
  {
   "cell_type": "code",
   "execution_count": 52,
   "metadata": {},
   "outputs": [
    {
     "data": {
      "image/png": "[encoded data removed]",
      "text/plain": [
       "<Figure size 1080x432 with 1 Axes>"
      ]
     },
     "metadata": {},
     "output_type": "display_data"
    }
   ],
   "source": [
    "sp_price['Adj Close'].plot(figsize =(15,6))\n",
    "plt.legend()\n",
    "plt.show()"
   ]
  },
  {
   "cell_type": "code",
   "execution_count": 32,
   "metadata": {},
   "outputs": [
    {
     "name": "stdout",
     "output_type": "stream",
     "text": [
      "                   Open         High          Low        Close    Adj Close  \\\n",
      "Date                                                                          \n",
      "2021-05-18  4165.939941  4169.149902  4125.990234  4127.830078  4127.830078   \n",
      "2021-05-19  4098.450195  4116.930176  4061.409912  4115.680176  4115.680176   \n",
      "2021-05-20  4121.970215  4172.799805  4121.970215  4159.120117  4159.120117   \n",
      "2021-05-21  4168.609863  4188.720215  4151.720215  4155.859863  4155.859863   \n",
      "2021-05-24  4170.160156  4209.520020  4170.160156  4197.049805  4197.049805   \n",
      "2021-05-25  4205.939941  4213.419922  4182.520020  4188.129883  4188.129883   \n",
      "2021-05-26  4191.589844  4202.609863  4184.109863  4195.990234  4195.990234   \n",
      "2021-05-27  4201.939941  4213.379883  4197.779785  4200.879883  4200.879883   \n",
      "2021-05-28  4210.770020  4218.359863  4203.569824  4204.109863  4204.109863   \n",
      "2021-06-01  4216.520020  4234.120117  4197.589844  4202.040039  4202.040039   \n",
      "\n",
      "                Volume    Return  \n",
      "Date                              \n",
      "2021-05-18  3559790000 -0.851729  \n",
      "2021-05-19  3485550000 -0.294341  \n",
      "2021-05-20  3019060000  1.055474  \n",
      "2021-05-21  3344620000 -0.078388  \n",
      "2021-05-24  2947400000  0.991129  \n",
      "2021-05-25  3420870000 -0.212528  \n",
      "2021-05-26  3674490000  0.187682  \n",
      "2021-05-27  5201110000  0.116531  \n",
      "2021-05-28  4199270000  0.076888  \n",
      "2021-06-01  4122960000 -0.049233  \n"
     ]
    }
   ],
   "source": [
    "# Calculate daily returns as percentage price changes\n",
    "sp_price['Return'] = 100 * (sp_price['Adj Close'].pct_change())\n",
    "\n",
    "# View the data\n",
    "print(sp_price.tail(10))"
   ]
  },
  {
   "cell_type": "markdown",
   "metadata": {},
   "source": [
    "* Calculating the `.pct_change()` will generate NaN values which must be dropped before proceeding"
   ]
  },
  {
   "cell_type": "code",
   "execution_count": 33,
   "metadata": {},
   "outputs": [
    {
     "data": {
      "text/plain": [
       "1"
      ]
     },
     "execution_count": 33,
     "metadata": {},
     "output_type": "execute_result"
    }
   ],
   "source": [
    "sp_price['Return'].isnull().sum()"
   ]
  },
  {
   "cell_type": "code",
   "execution_count": 34,
   "metadata": {},
   "outputs": [],
   "source": [
    "sp_price['Return'] = sp_price['Return'].dropna()"
   ]
  },
  {
   "cell_type": "code",
   "execution_count": 57,
   "metadata": {},
   "outputs": [
    {
     "data": {
      "image/png": "[encoded data removed]",
      "text/plain": [
       "<Figure size 1080x432 with 1 Axes>"
      ]
     },
     "metadata": {},
     "output_type": "display_data"
    }
   ],
   "source": [
    "# plot the data\n",
    "sp_price['Return'].plot(figsize=(15,6)).set_ylabel(\"Daily Return, %\")\n",
    "plt.legend()\n",
    "plt.show()"
   ]
  },
  {
   "cell_type": "code",
   "execution_count": 61,
   "metadata": {},
   "outputs": [
    {
     "name": "stdout",
     "output_type": "stream",
     "text": [
      "Daily volatility:  1.10%\n",
      "Monthly volatility:  5.06%\n",
      "Annual volatility:  17.51%\n"
     ]
    }
   ],
   "source": [
    "# Calculate daily std of returns\n",
    "std_daily = sp_price['Return'].std()\n",
    "print('Daily volatility: ', '{:.2f}%'.format(std_daily))\n",
    "\n",
    "# Convert daily volatility to monthly volatility\n",
    "std_monthly = np.sqrt(21) * std_daily\n",
    "print ('Monthly volatility: ', '{:.2f}%'.format(std_monthly))\n",
    "\n",
    "# Convert daily volatility to annaul volatility\n",
    "std_annual = np.sqrt(252) * std_daily\n",
    "print ('Annual volatility: ', '{:.2f}%'.format(std_annual))"
   ]
  },
  {
   "cell_type": "markdown",
   "metadata": {},
   "source": [
    "## 1. GARCH model fundamentals\n",
    "### First, some related statistical terms\n",
    "* **White noise (z):** uncorrelated random variables with a zero mean and constant variance\n",
    "* **Residual** = predicted value - observed value\n",
    "\n",
    "### Model intuition\n",
    "* it is autoregressive in that it predicts future behavior based on past behavior\n",
    "* volatility is a weighted average of past information\n",
    "* Intuitively, GARCH variance forecast can be interpreted as a weighted average of three different variance forecasts. \n",
    "    1. One is a constant variance that corresponds to the long run average. \n",
    "    2. The second is the new information that was not available when the previous forecast was made. \n",
    "    3. The third is the forecast that was made in the previous period. \n",
    "* The weights on these three forecasts determine how fast the variance changes with new information and how fast it reverts to its long run mean.\n",
    "\n",
    "### Model constraints\n",
    "* all parameters must be non-negative, i.e. the variance cannot be negative\n",
    "    \\begin{equation}\n",
    "    \\omega,\\alpha,\\beta >= 0\n",
    "    \\end{equation}\n",
    "* model estimarions are 'mean-reverting' to the long-run variance\n",
    "    \\begin{equation}\n",
    "    \\alpha + \\beta < 1\n",
    "    \\end{equation}\n",
    "    long-run variance: \n",
    "    \\begin{equation}\n",
    "    \\omega / (1 - \\alpha - \\beta)\n",
    "    \\end{equation}\n",
    "* rules of thumb for model parameters\n",
    "    1. the larger the $\\alpha$ value, the bigger the immediate impact of the shock\n",
    "    2. the larger the $\\beta$ value, the longer the duration of the impact\n"
   ]
  },
  {
   "cell_type": "markdown",
   "metadata": {},
   "source": [
    "## 2. GARCH model configuration\n",
    "### GARCH Model workflow\n",
    "* Three steps to develop the GARCH model\n",
    "    1. Specify the model\n",
    "    2. Fit the model\n",
    "    3. Make a forecast\n",
    "    \n",
    "### Specify the model\n",
    "* Model assumptions:\n",
    "    1. Normal distribution of the residuals: `normal`,`t`,`skewt`\n",
    "    2. Mean model: `constant`,`zero`,`AR`\n",
    "    3. Volatility model: `GARCH`, `ARCH`,`EGARCH`\n",
    "\n",
    "\n",
    "GARCH models enable one to specify the distribution assumptions of the standardized residuals. By default, a normal distribution is assumed, which has a symmetric, bell-shaped probability density curve. Other options include Student's t-distribution and skewed Student's t-distribution."
   ]
  },
  {
   "cell_type": "code",
   "execution_count": 36,
   "metadata": {},
   "outputs": [
    {
     "name": "stdout",
     "output_type": "stream",
     "text": [
      "Null hypothesis of normality is rejected.\n"
     ]
    }
   ],
   "source": [
    "# Run the Shapiro-Wilk normality test\n",
    "from scipy import stats\n",
    "p_value = stats.shapiro(sp_price[\"Return\"].dropna())[1]\n",
    "if p_value <= 0.05:\n",
    "    print(\"Null hypothesis of normality is rejected.\")\n",
    "else:\n",
    "    print(\"Null hypothesis of normality is accepted.\")"
   ]
  },
  {
   "cell_type": "code",
   "execution_count": 79,
   "metadata": {},
   "outputs": [],
   "source": [
    "# Build a basic GARCH model\n",
    "gm_model = arch_model(sp_price['Return'].dropna(), p = 1, q = 1,\n",
    "                     mean = 'constant', vol = 'GARCH', dist = 'normal')"
   ]
  },
  {
   "cell_type": "markdown",
   "metadata": {},
   "source": [
    "### Fit the model\n",
    "* display the model fit output after every *n* iterations\n",
    "* fitted model parameters are determined by \"maximum likelihood estimation\""
   ]
  },
  {
   "cell_type": "code",
   "execution_count": 80,
   "metadata": {},
   "outputs": [
    {
     "name": "stdout",
     "output_type": "stream",
     "text": [
      "                           Constant Mean - GARCH Model Results                           \n",
      "=========================================================================================\n",
      "Dep. Variable:                            Return   R-squared:                       0.000\n",
      "Mean Model:                        Constant Mean   Adj. R-squared:                  0.000\n",
      "Vol Model:                                 GARCH   Log-Likelihood:               -3008.89\n",
      "Distribution:      Standardized Skew Student's t   AIC:                           6029.77\n",
      "Method:                       Maximum Likelihood   BIC:                           6064.75\n",
      "                                                   No. Observations:                 2515\n",
      "Date:                           Wed, Jun 02 2021   Df Residuals:                     2514\n",
      "Time:                                   16:43:57   Df Model:                            1\n",
      "                                 Mean Model                                 \n",
      "============================================================================\n",
      "                 coef    std err          t      P>|t|      95.0% Conf. Int.\n",
      "----------------------------------------------------------------------------\n",
      "mu             0.0735  1.326e-02      5.542  2.999e-08 [4.749e-02,9.946e-02]\n",
      "                              Volatility Model                              \n",
      "============================================================================\n",
      "                 coef    std err          t      P>|t|      95.0% Conf. Int.\n",
      "----------------------------------------------------------------------------\n",
      "omega          0.0269  6.154e-03      4.375  1.216e-05 [1.486e-02,3.898e-02]\n",
      "alpha[1]       0.1923  2.498e-02      7.697  1.391e-14     [  0.143,  0.241]\n",
      "beta[1]        0.7921  2.300e-02     34.437 7.049e-260     [  0.747,  0.837]\n",
      "                                Distribution                               \n",
      "===========================================================================\n",
      "                 coef    std err          t      P>|t|     95.0% Conf. Int.\n",
      "---------------------------------------------------------------------------\n",
      "nu             5.9289      0.692      8.564  1.092e-17    [  4.572,  7.286]\n",
      "lambda        -0.1082  2.626e-02     -4.121  3.771e-05 [ -0.160,-5.674e-02]\n",
      "===========================================================================\n",
      "\n",
      "Covariance estimator: robust\n"
     ]
    }
   ],
   "source": [
    "gm_result = gm_model.fit(update_freq = 4, disp = 'off')\n",
    "print(gm_result.summary())"
   ]
  },
  {
   "cell_type": "code",
   "execution_count": 81,
   "metadata": {},
   "outputs": [
    {
     "data": {
      "image/png": "[encoded data removed]",
      "text/plain": [
       "<Figure size 432x288 with 2 Axes>"
      ]
     },
     "execution_count": 81,
     "metadata": {},
     "output_type": "execute_result"
    },
    {
     "data": {
      "image/png": "[encoded data removed]",
      "text/plain": [
       "<Figure size 432x288 with 2 Axes>"
      ]
     },
     "metadata": {},
     "output_type": "display_data"
    }
   ],
   "source": [
    "# Plot the fitted model results\n",
    "gm_result.plot(figsize=(15,6))"
   ]
  },
  {
   "cell_type": "markdown",
   "metadata": {},
   "source": [
    "## Make a forecast"
   ]
  },
  {
   "cell_type": "code",
   "execution_count": 74,
   "metadata": {},
   "outputs": [
    {
     "name": "stdout",
     "output_type": "stream",
     "text": [
      "                 h.1       h.2       h.3       h.4       h.5\n",
      "Date                                                        \n",
      "2021-06-01  0.370847  0.394741  0.418365  0.441721  0.464813\n"
     ]
    },
    {
     "name": "stderr",
     "output_type": "stream",
     "text": [
      "C:\\Users\\Michael Monahan\\anaconda3\\lib\\site-packages\\arch\\__future__\\_utility.py:11: FutureWarning: \n",
      "The default for reindex is True. After September 2021 this will change to\n",
      "False. Set reindex to True or False to silence this message. Alternatively,\n",
      "you can use the import comment\n",
      "\n",
      "from arch.__future__ import reindexing\n",
      "\n",
      "to globally set reindex to True and silence this warning.\n",
      "\n",
      "  warnings.warn(\n"
     ]
    }
   ],
   "source": [
    "## Make a 5-period ahead forecast\n",
    "gm_forecast = gm_result.forecast(horizon = 5)\n",
    "\n",
    "# Print the forecast variance\n",
    "print(gm_forecast.variance[-1:])"
   ]
  },
  {
   "cell_type": "markdown",
   "metadata": {},
   "source": [
    "## Distribution Assumptions\n",
    "### Standardized residuals\n",
    "* residual = predicted return - mean return\n",
    "* standardized residual = residual / return volatility"
   ]
  },
  {
   "cell_type": "code",
   "execution_count": 82,
   "metadata": {},
   "outputs": [
    {
     "data": {
      "image/png": "[encoded data removed]",
      "text/plain": [
       "<Figure size 432x288 with 1 Axes>"
      ]
     },
     "metadata": {},
     "output_type": "display_data"
    }
   ],
   "source": [
    "\n",
    "plt.hist(gm_std_resid, facecolor = 'orange', label = 'standardized residuals', bins = 75)\n",
    "plt.show()"
   ]
  },
  {
   "cell_type": "markdown",
   "metadata": {},
   "source": [
    "### Skewness of the residual distribution"
   ]
  },
  {
   "cell_type": "code",
   "execution_count": 83,
   "metadata": {},
   "outputs": [
    {
     "name": "stdout",
     "output_type": "stream",
     "text": [
      "The skewness of the residual distribution is: -0.6810474400047537\n"
     ]
    }
   ],
   "source": [
    "# Import skew from scipy.stats\n",
    "from scipy.stats import skew\n",
    "\n",
    "# Calculate the third moment (skewness) of the returns distribution\n",
    "gm_resid_skewness = skew(gm_std_resid)\n",
    "print('The skewness of the residual distribution is: '+ str(gm_resid_skewness))"
   ]
  },
  {
   "cell_type": "markdown",
   "metadata": {},
   "source": [
    "### Kurtosis of the residual distribution"
   ]
  },
  {
   "cell_type": "code",
   "execution_count": 84,
   "metadata": {},
   "outputs": [
    {
     "name": "stdout",
     "output_type": "stream",
     "text": [
      "The excess kurtosis of the selected stock distribution is: 2.340683749284323\n",
      "The fourth moment of the selected stock distribution is: 5.340683749284323\n"
     ]
    }
   ],
   "source": [
    "# Import kurtosis from scipy.stats\n",
    "from scipy.stats import kurtosis\n",
    "\n",
    "# Calculate the excess kurtosis of the returns distribution\n",
    "excess_kurtosis = kurtosis(gm_std_resid)\n",
    "print('The excess kurtosis of the selected stock distribution is: '+ str(excess_kurtosis))\n",
    "\n",
    "# Derive the true fourth moment of the returns distribution\n",
    "fourth_moment = excess_kurtosis + 3\n",
    "print('The fourth moment of the selected stock distribution is: ' + str(fourth_moment))"
   ]
  },
  {
   "cell_type": "markdown",
   "metadata": {},
   "source": [
    "### Volatility models for asymmetric shocks\n",
    "* GJR-GARCH was created to address the asymmetric shock to volatility\n",
    "* to specify GJR-GARCH model add the paramter 'o = 1'\n",
    "```python\n",
    "arch_model(data, p  = 1, q = 1, o = 1, \n",
    "           mean = 'constant', vol = 'GARCH')\n",
    "```\n",
    "* EGARCH (Exponential GARCH) is another popular model to address asymmetric shocks\n",
    "    * adds a conditional component to model asymmetric shock similar to GJR-GARCH model\n",
    "    * No non-negative constraints on alpha or beta, so it tends to run faster\n",
    "```python\n",
    "arch_model(data, p  = 1, q = 1, o = 1, \n",
    "           mean = 'constant', vol = 'EGARCH')\n",
    "```"
   ]
  },
  {
   "cell_type": "code",
   "execution_count": null,
   "metadata": {},
   "outputs": [],
   "source": [
    "gjrgm_model = arch_model(sp_price['Return'].dropna(), p = 1, q = 1, o = 1,\n",
    "                     mean = 'constant', vol = 'GARCH', dist = 't')\n",
    "gjrgm_model.summary()"
   ]
  },
  {
   "cell_type": "code",
   "execution_count": null,
   "metadata": {},
   "outputs": [],
   "source": [
    "egm_model = arch_model(sp_price['Return'].dropna(), p = 1, q = 1, o = 1,\n",
    "                     mean = 'constant', vol = 'EGARCH', dist = 't')\n",
    "egm_model.summary()"
   ]
  },
  {
   "cell_type": "markdown",
   "metadata": {},
   "source": [
    "## GARCH rolling window forecast\n",
    "### Rolling windows for out-of-sample forecasts: predicting the unknown\n",
    "* **Rolling window forecast:** repeatedly perform model fitting and forecasting in time sequence\n",
    "    * How to determine window size?\n",
    "        * *Usually determined on a case-by-case basis*\n",
    "        * Too wide window size: includes obsolete data that may lead to high bias\n",
    "        * Too narrow window size: excludes relevant data that may lead to higher variance \n",
    "    * **The optimal window size: is a trade-off between model bias and variance**\n",
    "        \n",
    "* Implement an expanding window forecast\n",
    "```python\n",
    "for i in range (120):\n",
    "    gm_result = basic_gm.fit(first_obs = start_loc,\n",
    "                             last_obs = i + end_loc, disp = 'off')\n",
    "    temp_result = gm_result.forecast(horizon = 1).variance\n",
    "```\n",
    "* Fixed rolling window forecast\n",
    "```python \n",
    "for i in range(120):\n",
    "    # Specify rolling window range for model fitting\n",
    "    gm_result = basic_gm.fit(first_obs = i + start_loc,\n",
    "                             last_obs = i + end_loc, disp = 'off')\n",
    "    temp_result = gm_result.forecast(horizon = 1).variance\n",
    "```"
   ]
  },
  {
   "cell_type": "code",
   "execution_count": null,
   "metadata": {},
   "outputs": [],
   "source": [
    "# Print header of variance forecasts with expanding and fixed window\n",
    "print(variance_expandwin.head())\n",
    "print(variance_fixedwin.head())\n",
    "\n",
    "# Calculate volatility from variance forecast with an expanding window\n",
    "vol_expandwin = np.sqrt(variance_expandwin)\n",
    "# Calculate volatility from variance forecast with a fixed rolling window\n",
    "vol_fixedwin = np.sqrt(variance_fixedwin)\n",
    "\n",
    "# Plot volatility forecast with an expanding window\n",
    "plt.plot(vol_expandwin, color = 'blue')\n",
    "# Plot volatility forecast with a fixed rolling window\n",
    "plt.plot(vol_fixedwin, color = 'red')\n",
    "plt.plot(bitcoin_data.Return['2019-4-1':'2019-9-15'], color = 'chocolate')\n",
    "plt.show()"
   ]
  },
  {
   "cell_type": "markdown",
   "metadata": {},
   "source": [
    "## Model parameter significance testing\n",
    "* **Always select the parsimonious model**\n",
    "* The significance level selected quantifies the probability of observing results purely by chance\n",
    "    * 5% is a common threshold\n",
    "* **p-value:** the odds the observed results could have happened by chance\n",
    "    * the lower the p-value the less credibility the null hypothesis has\n",
    "```python\n",
    "# Print model fitting summary\n",
    "print(gm_result.summary())\n",
    "# Get parameter stats from model summary\n",
    "para_summary = pd.DataFrame({'parameter':gm_result.params,\n",
    "                             'p-value': gm_result.pvalues})\n",
    "# Print out parameter stats\n",
    "print(para_summary)\n",
    "```    \n",
    "```python\n",
    "# Get parameter stats from model summary\n",
    "para_summary = pd.DataFrame({'parameter':gm_result.params,\n",
    "                             'std-err': gm_result.std_err, \n",
    "                             't-value': gm_result.tvalues})\n",
    "# Verify t-value by manual calculation\n",
    "calculated_t = para_summary['parameter']/para_summary['std-err']\n",
    "# Print calculated t-statistic\n",
    "print(calculated_t)\n",
    "# Print parameter stats\n",
    "print(para_summary)\n",
    "```\n",
    "\n",
    "### Validation of GARCH model assumptions\n",
    "* One of the basic assumptions is the model caputures all of the information in the data and the only 'leftovers' are white noise processes. The following tests are conducted to ensure the residuals consist of white noise.\n",
    "    1. ACF plots\n",
    "    2. Ljung-Box test\n",
    "\n",
    "* ACF plot in Python\n",
    "```python\n",
    "from statsmodels.graphics.tsaplots import plot_acf\n",
    "plot_acf(data, alpha = 0.05)\n",
    "```\n",
    "* Ljung-Box Test\n",
    "    * tests whether any group of time series autocorrelations are different from zero\n",
    "    "
   ]
  },
  {
   "cell_type": "code",
   "execution_count": null,
   "metadata": {},
   "outputs": [],
   "source": [
    "# Run the Ljung-Box test to test for autocorrelation in the model residuals\n",
    "from statsmodels.stats.diagnostic import acorr_ljungbox\n",
    "p_value = acorr_ljungbox(std_resid, lags = 10)[1]\n",
    "if p_value <= 0.05:\n",
    "    print(\"Null hypothesis of normality is rejected.\")\n",
    "else:\n",
    "    print(\"Null hypothesis of normality is accepted.\")"
   ]
  },
  {
   "cell_type": "markdown",
   "metadata": {},
   "source": [
    "### GARCH Model backtesting\n",
    "* Backtesting is an approach to evaluate model forecasting capability\n",
    "* allows comparisons between model predictions and actual historical data\n",
    "* common measures of backtest performance include MAE and MSE\n",
    "* to calculate MSE, MAE in Python:\n",
    "```python\n",
    "from sklearn.metrics import mean_absolute_error, mean_squared_error\n",
    "```\n",
    "```python\n",
    "# Call function to calculate MAE\n",
    "mae = mean_absolute_error(observation, forecast)\n",
    "# Call function to calculate MSE\n",
    "mse = mean_squared_error(observation, forecast)\n",
    "```"
   ]
  },
  {
   "cell_type": "code",
   "execution_count": null,
   "metadata": {},
   "outputs": [],
   "source": [
    "def evaluate(observation, forecast): \n",
    "    # Call sklearn function to calculate MAE\n",
    "    mae = mean_absolute_error(observation, forecast)\n",
    "    print('Mean Absolute Error (MAE): {:.3g}'.format(mae))\n",
    "    # Call sklearn function to calculate MSE\n",
    "    mse = mean_squared_error(observation, forecast)\n",
    "    print('Mean Squared Error (MSE): {:.3g}'.format(mse))\n",
    "    return mae, mse\n",
    "\n",
    "# Backtest model with MAE, MSE\n",
    "evaluate(actual_var, forecast_var)"
   ]
  },
  {
   "cell_type": "markdown",
   "metadata": {},
   "source": [
    "## VaR in financial risk management\n",
    "### Risk management mindset\n",
    "* **Rule No. 1:** *Never lose money*\n",
    "* **Rule No. 2:** *Never forget Rule No. 1*\n",
    "* **VaR:** Value at Risk. A measure to quantify possible losses\n",
    "    * Three requirements to determine VaR:\n",
    "        1. portfoilo of assets\n",
    "        2. time horizon\n",
    "        3. probabilities\n",
    "* VaR Example:\n",
    "    * 1-day 5% VaR of 1 million USD = there is a 5% probability the portfolio will fall in value by 1M USD or more in 1 day\n",
    "\n",
    "### Dynamic VaR with GARCH\n",
    "* More realistic VaR estimation with GARCH\n",
    "* VaR = *mean* + *(GARCH vol)* + *quantile*\n",
    "```python\n",
    "VaR = mean_forecast.values + np.sqrt(variance_forecast).values * quantile\n",
    "```\n",
    "#### Dynamic VaR calculation\n",
    "* Step 1: Use GARCH model to make variance forecast\n",
    "```python\n",
    "# Specify and fit a GARCH model\n",
    "egm = arch_model(egm_model = arch_model(sp_price['Return'].dropna(), p = 1, q = 1, o = 1,\n",
    "                     mean = 'constant', vol = 'EGARCH', dist = 't')\n",
    "gm_result = egm.fit()\n",
    "# Make variance forecast\n",
    "gm_forecast = gm_result.forecast(start = '2019-01-01')\n",
    "```\n",
    "* Step 2: Use GARCH model to obtain forward-looking mean and volatility\n",
    "```python\n",
    "mean_forecast = gm_forecast.mean['2019-01-01':]\n",
    "variance_forecast = gm_forecast.variance['2019-01-01':]\n",
    "```\n",
    "* Step 3: Obtain the quantile according to a specified confidence level\n",
    "1. Parametric VaR: determined by distribution\n",
    "2. Emperical VaR: from historical data\n",
    "\n",
    "* Parametric VaR: estimates quantiles based on GARCH assumeed distribution of standardized residuals\n",
    "```python\n",
    "# Assume a Student-t distribution\n",
    "# ppf(): percent point function\n",
    "q_parametric = egm.distribution.ppf(0.05, nu)\n",
    "```\n",
    "* Empirical VaR: estimates based on the observed distribution of GARCH standardized residuals\n",
    "```python\n",
    "q_empirical = std_resid.quantile(0.05)\n",
    "```"
   ]
  },
  {
   "cell_type": "code",
   "execution_count": null,
   "metadata": {},
   "outputs": [],
   "source": [
    "# Obtain the parametric quantile\n",
    "q_parametric = egm.distribution.ppf(0.05, nu)\n",
    "print('5% parametric quantile: ', q_parametric)\n",
    "    \n",
    "# Calculate the VaR\n",
    "VaR_parametric = mean_forecast.values + np.sqrt(variance_forecast).values * q_parametric\n",
    "# Save VaR in a DataFrame\n",
    "VaR_parametric = pd.DataFrame(VaR_parametric, columns = ['5%'], index = variance_forecast.index)\n",
    "\n",
    "# Plot the VaR\n",
    "plt.plot(VaR_parametric, color = 'red', label = '5% Parametric VaR')\n",
    "plt.scatter(variance_forecast.index,sp_price.Return['2019-1-1':], color = 'orange', label = 'S&P Daily Returns' )\n",
    "plt.legend(loc = 'upper right')\n",
    "plt.show()\n",
    "\n",
    "# Obtain the empirical quantile\n",
    "q_empirical = std_resid.quantile(0.05)\n",
    "print('5% empirical quantile: ', q_empirical)\n",
    "\n",
    "# Calculate the VaR\n",
    "VaR_empirical = mean_forecast.values + np.sqrt(variance_forecast).values * q_empirical\n",
    "# Save VaR in a DataFrame\n",
    "VaR_empirical = pd.DataFrame(VaR_empirical, columns = ['5%'], index = variance_forecast.index)\n",
    "\n",
    "# Plot the VaRs\n",
    "plt.plot(VaR_empirical, color = 'brown', label = '5% Empirical VaR')\n",
    "plt.plot(VaR_parametric, color = 'red', label = '5% Parametric VaR')\n",
    "plt.scatter(variance_forecast.index,sp_price.Return['2019-1-1':], color = 'orange', label = 'S&P Daily Returns' )\n",
    "plt.legend(loc = 'upper right')\n",
    "plt.show()"
   ]
  },
  {
   "cell_type": "markdown",
   "metadata": {},
   "source": [
    "### Dynamic covariance in portfolio optimization\n",
    "* **Covariance:** describes the relationship between movement of two variables\n",
    "    * Positive covariance: variables move together in same direction\n",
    "    * Negative covariance: variables move in opposite directions \n",
    "#### Calculate GARCH covariance in Python\n",
    "* Step 1: Fit GARCH model and obtain volatility for each return series\n",
    "```python\n",
    "# gm_eur, gm_cad are fitted GARCH models\n",
    "vol_eur = gm_eur.conditional_volatility\n",
    "vol_cad = gm_cad.conditional_volatility\n",
    "```\n",
    "* Step 2: Compute standardized residuals from fitted GARCH models\n",
    "* Step 3: Compute $\\rho$ as simple correlation of standardized residuals\n",
    "```python\n",
    "corr = np.corrcoef(resid_eur, resid_cad)[0,1]\n",
    "```\n",
    "* Step 4: Compute GARCH covariance by multiplying the correlation and volatility\n",
    "```python\n",
    "covariance = corr * vol_eur * vol_cad\n",
    "```"
   ]
  },
  {
   "cell_type": "code",
   "execution_count": null,
   "metadata": {},
   "outputs": [],
   "source": [
    "# Define weights\n",
    "Wa1 = 0.9\n",
    "Wa2 = 1 - Wa1\n",
    "Wb1 = 0.5\n",
    "Wb2 = 1 - Wb1\n",
    "\n",
    "# Calculate portfolio variance\n",
    "portvar_a = Wa1**2 * variance_eur + Wa2**2 * variance_cad + 2*Wa1*Wa2 *covariance\n",
    "portvar_b = Wb1**2 * variance_eur + Wb2**2 * variance_cad + 2*Wb1*Wb2*covariance\n",
    "\n",
    "# Plot the data\n",
    "plt.plot(portvar_a, color = 'green', label = 'Portfolio a')\n",
    "plt.plot(portvar_b, color = 'deepskyblue', label = 'Portfolio b')\n",
    "plt.legend(loc = 'upper right')\n",
    "plt.show()"
   ]
  },
  {
   "cell_type": "code",
   "execution_count": null,
   "metadata": {},
   "outputs": [],
   "source": []
  }
 ],
 "metadata": {
  "kernelspec": {
   "display_name": "Python 3",
   "language": "python",
   "name": "python3"
  },
  "language_info": {
   "codemirror_mode": {
    "name": "ipython",
    "version": 3
   },
   "file_extension": ".py",
   "mimetype": "text/x-python",
   "name": "python",
   "nbconvert_exporter": "python",
   "pygments_lexer": "ipython3",
   "version": "3.8.5"
  }
 },
 "nbformat": 4,
 "nbformat_minor": 4
}
